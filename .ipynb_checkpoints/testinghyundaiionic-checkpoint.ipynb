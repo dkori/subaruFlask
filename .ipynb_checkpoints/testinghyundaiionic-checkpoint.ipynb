{
 "cells": [
  {
   "cell_type": "code",
   "execution_count": 158,
   "metadata": {},
   "outputs": [],
   "source": [
    "import requests\n",
    "zip_code = '23173'\n",
    "distance = 5000\n",
    "request_url = 'https://www.hyundaiusa.com/var/hyundai/services/inventory/vehicleList.json?zip={zip_code}&year=2022&model=Ioniq-5&radius={distance}'.format(\n",
    "zip_code=zip_code,distance=distance)\n",
    "# create headers\n",
    "headers = {#'cookie':'check=true; _gcl_au=1.1.241945524.1655137443; _ga=GA1.2.1531590439.1655137443; _gid=GA1.2.708625299.1655137443; _gat_UA-170970756-1=1; _gat_UA-171252554-1=1; s_ecid=MCMID|02346269776553084070889319515829325576; AMCVS_3C3BCE0154FA24300A4C98A1@AdobeOrg=1; AMCV_3C3BCE0154FA24300A4C98A1@AdobeOrg=1585540135|MCMID|02346269776553084070889319515829325576|MCAID|NONE|MCOPTOUT-1655144643s|NONE|MCAAMLH-1655742243|7|MCAAMB-1655742243|j8Odv6LonN4r3an7LhD3WZrU1bUpAkFkkiY1ncBR96t2PTI|vVersion|4.4.0; _fbp=fb.1.1655137443925.2125437294; mbox=session#d4e53a45554143edbdb6f27de6034ca0#1655139303|PC#d4e53a45554143edbdb6f27de6034ca0.34_0#1718382245; mboxEdgeCluster=34; __atuvc=1|24; __atuvs=62a764a4167a47f1000; AMCVS_C3BCE0154FA24300A4C98A1@AdobeOrg=1; AMCV_C3BCE0154FA24300A4C98A1@AdobeOrg=1585540135|MCMID|02346269776553084070889319515829325576|MCIDTS|19157|MCAID|NONE|MCOPTOUT-1655144647s|NONE|vVersion|4.4.0; s_ppn=no value; s_cc=true; _uetsid=401e5e80eb3511ecaed4bd090630ee8a; _uetvid=401e6590eb3511ec98ef99a6ff31b569; _gat=1; _dpm_ses.5888=*; _dpm_id.5888=22f3d177-6605-4aaf-92f5-a47aa213c3ee.1655137449.1.1655137449.1655137449.5a1b0d7f-7147-443e-8a5f-6bd7c606ffd6; _scid=393de5a5-c15e-4961-8eeb-cf79ecde9f01; _hjSessionUser_1596276=eyJpZCI6IjdkNzQxN2E3LTc2ZTQtNTYwMy1iYzVlLWFiZjE1NjhmYmZjYiIsImNyZWF0ZWQiOjE2NTUxMzc0NTAzMDQsImV4aXN0aW5nIjpmYWxzZX0=; _hjFirstSeen=1; _hjIncludedInSessionSample=0; _hjSession_1596276=eyJpZCI6ImM4MDQ5OTk1LWQ5NDgtNDU2NS04MmU5LTRjOThlYWRjNzhiNyIsImNyZWF0ZWQiOjE2NTUxMzc0NTA4MDksImluU2FtcGxlIjpmYWxzZX0=; _hjAbsoluteSessionInProgress=1; _tt_enable_cookie=1; _ttp=b0a61062-89dc-42e5-b59e-619187c0108a; _sctr=1|1655092800000; _clck=x8n6cb|1|f2a|0; _clsk=dwhe2f|1655137451634|1|1|j.clarity.ms/collect; LPVID=MzYWFmOWEyNDJkOWQxOWUx; LPSID-41916303=gBNyslaaT8eTjHfL3N0rSg; _pin_unauth=dWlkPU5XRTBZMlF6T1dNdE9HUXpZUzAwWTJNM0xXRTFNak10T0RFME9URmhaV0poTTJOag; s_ppvl=h%3A%20vehicles%3A%20home%3A%20ioniq%205,2,2,796,1426,796,1440,900,2,P; ipe_s=5edbc2b5-a0e1-0c28-6ce7-ac4536161c30; _aeaid=03f2e68f-7059-4cf1-a4f3-275e4edcecfe; IPE_LandingTime=1655137459757; ipe.322.pageViewedCount=1; ipe.322.pageViewedDay=164; ipe_322_fov={\"numberOfVisits\":1,\"sessionId\":\"5edbc2b5-a0e1-0c28-6ce7-ac4536161c30\",\"expiry\":\"2022-07-13T16:24:19.782Z\",\"lastVisit\":\"2022-06-13T16:24:19.782Z\"}; OptanonAlertBoxClosed=2022-06-13T16:24:20.333Z; OptanonConsent=isGpcEnabled=0&datestamp=Mon+Jun+13+2022+12:24:20+GMT-0400+(Eastern+Daylight+Time)&version=6.30.0&isIABGlobal=false&hosts=&consentId=a38944e6-6bf1-490c-adfa-8737a9dd1109&interactionCount=1&landingPath=NotLandingPage&groups=C0003:1,C0001:1,C0002:1,BG18:1,C0004:1; aelastsite=cPse/4ilq18K5PO0nmpeINtYqinYaz9cECulfv7mhMaUn0ylDJlpA0ixb3hz4I9T; aelreadersettings={\"c_big\":0,\"rg\":0,\"memph\":0,\"contrast_setting\":0,\"colorshift_setting\":0,\"text_size_setting\":0,\"space_setting\":0,\"font_setting\":0,\"k\":0,\"k_disable_default\":0,\"hlt\":0,\"disable_animations\":0,\"display_alt_desc\":0}; aeatstartmessage=true; s_ppv=h%3A%20vehicles%3A%20home%3A%20ioniq%205,2,2,796,1426,281,1440,900,2,P; utag_main=v_id:01815de11c0e001a49f3317530770507900360710093c$_sn:1$_se:5$_ss:0$_st:1655139277577$ses_id:1655137442839;exp-session$_pn:1;exp-session$vapi_domain:hyundaiusa.com; s_sq=[[B]]',\n",
    "    'cookie': 'check=true;',      \n",
    "    'referer':'https://www.hyundaiusa.com/us/en/vehicles/ioniq-5.json'}"
   ]
  },
  {
   "cell_type": "code",
   "execution_count": 159,
   "metadata": {},
   "outputs": [],
   "source": [
    "response = requests.get(request_url,headers=headers)"
   ]
  },
  {
   "cell_type": "code",
   "execution_count": 160,
   "metadata": {},
   "outputs": [
    {
     "data": {
      "text/plain": [
       "200"
      ]
     },
     "execution_count": 160,
     "metadata": {},
     "output_type": "execute_result"
    }
   ],
   "source": [
    "response.status_code"
   ]
  },
  {
   "cell_type": "code",
   "execution_count": 161,
   "metadata": {},
   "outputs": [],
   "source": [
    "available = list()\n",
    "for item in response.json()['data'][0]['dealerInfo']:\n",
    "    if item['vehicles']!=None:\n",
    "        available.append(item)"
   ]
  },
  {
   "cell_type": "code",
   "execution_count": null,
   "metadata": {},
   "outputs": [],
   "source": []
  },
  {
   "cell_type": "code",
   "execution_count": 162,
   "metadata": {},
   "outputs": [
    {
     "data": {
      "text/plain": [
       "{'dealerCd': 'MD013',\n",
       " 'dealerNm': 'Ideal Hyundai',\n",
       " 'dealerEmail': 'mmcgoldrick@idealcarstrucks.com',\n",
       " 'dealerUrl': 'www.idealhyundai.com',\n",
       " 'address1': '5871 Urbana Pike',\n",
       " 'address2': '',\n",
       " 'city': 'Frederick',\n",
       " 'state': 'MD',\n",
       " 'zip': '21701',\n",
       " 'phone': '301-663-3121',\n",
       " 'fax': '301-663-6260',\n",
       " 'region': 'MA',\n",
       " 'latitude': 39.3924102,\n",
       " 'longitude': -77.4056842,\n",
       " 'distance': 125.79,\n",
       " 'shopperAssurance': 'Y',\n",
       " 'IsPMADealer': 0,\n",
       " 'vehicles': [{'vin': 'KM8KRDAF7NU076139',\n",
       "   'modelNm': 'Ioniq 5',\n",
       "   'trimDesc': 'LIMITED',\n",
       "   'modelCd': '50462AEZ',\n",
       "   'price': '$56,260.00',\n",
       "   'exteriorColorCd': 'M9U',\n",
       "   'interiorColorCd': 'NNB',\n",
       "   'drivetrainDesc': 'ALL WHEEL DRIVE',\n",
       "   'transmissionDesc': 'AUTO',\n",
       "   'TotalPackages': 0,\n",
       "   'TotalOptions': 0,\n",
       "   'packages': None,\n",
       "   'colors': [{'SAPExterioColorCode': 'M9U',\n",
       "     'ExtColorLongDesc': 'DIGITAL TEAL',\n",
       "     '360ImagePaths': [{'ImagePath': '/content/dam/hyundai/us/com/image/2022/ioniq5/limited/exterior/base/digital-teal/360/',\n",
       "       'PackageID': 'P1'}]}],\n",
       "   'PlannedDeliveryDate': '2022-03-17T15:11:00',\n",
       "   'inventoryStatus': 'DS'}]}"
      ]
     },
     "execution_count": 162,
     "metadata": {},
     "output_type": "execute_result"
    }
   ],
   "source": [
    "available[0]"
   ]
  },
  {
   "cell_type": "code",
   "execution_count": 163,
   "metadata": {},
   "outputs": [],
   "source": [
    "import pandas as pd\n",
    "all_vehicles = list()\n",
    "for x in available:\n",
    "    dealerNm = x['dealerNm']\n",
    "    # grab dealer characteristics\n",
    "    dealer_dict = [{k:x[k] for k in ['dealerNm', 'city','state','distance']}]\n",
    "    vehicles = list()\n",
    "    for y in x['vehicles']:\n",
    "        vehicles.append({key:y[key] for key in ['vin','modelNm','trimDesc','price','exteriorColorCd','PlannedDeliveryDate', 'inventoryStatus', 'drivetrainDesc']})\n",
    "    dealer_frame = pd.DataFrame(dealer_dict)\n",
    "    vehicle_frame = pd.DataFrame(vehicles)\n",
    "    vehicle_frame['dealerNm'] = dealerNm\n",
    "    all_vehicles.append(dealer_frame.merge(vehicle_frame,on='dealerNm'))"
   ]
  },
  {
   "cell_type": "code",
   "execution_count": 164,
   "metadata": {},
   "outputs": [
    {
     "data": {
      "text/plain": [
       "144"
      ]
     },
     "execution_count": 164,
     "metadata": {},
     "output_type": "execute_result"
    }
   ],
   "source": [
    "len(available)"
   ]
  },
  {
   "cell_type": "code",
   "execution_count": 165,
   "metadata": {},
   "outputs": [
    {
     "data": {
      "text/html": [
       "<div>\n",
       "<style scoped>\n",
       "    .dataframe tbody tr th:only-of-type {\n",
       "        vertical-align: middle;\n",
       "    }\n",
       "\n",
       "    .dataframe tbody tr th {\n",
       "        vertical-align: top;\n",
       "    }\n",
       "\n",
       "    .dataframe thead th {\n",
       "        text-align: right;\n",
       "    }\n",
       "</style>\n",
       "<table border=\"1\" class=\"dataframe\">\n",
       "  <thead>\n",
       "    <tr style=\"text-align: right;\">\n",
       "      <th></th>\n",
       "      <th>dealerNm</th>\n",
       "      <th>city</th>\n",
       "      <th>state</th>\n",
       "      <th>distance</th>\n",
       "      <th>vin</th>\n",
       "      <th>modelNm</th>\n",
       "      <th>trimDesc</th>\n",
       "      <th>price</th>\n",
       "      <th>exteriorColorCd</th>\n",
       "      <th>PlannedDeliveryDate</th>\n",
       "      <th>inventoryStatus</th>\n",
       "      <th>drivetrainDesc</th>\n",
       "    </tr>\n",
       "  </thead>\n",
       "  <tbody>\n",
       "    <tr>\n",
       "      <th>10</th>\n",
       "      <td>Capital Hyundai Of Greensboro</td>\n",
       "      <td>Greensboro</td>\n",
       "      <td>NC</td>\n",
       "      <td>158.28</td>\n",
       "      <td>KM8KN4AE0NU072999</td>\n",
       "      <td>Ioniq 5</td>\n",
       "      <td>SEL</td>\n",
       "      <td>$47,940.00</td>\n",
       "      <td>M9U</td>\n",
       "      <td>2022-06-10T07:00:00</td>\n",
       "      <td>DS</td>\n",
       "      <td>REAR WHEEL DRIVE</td>\n",
       "    </tr>\n",
       "    <tr>\n",
       "      <th>17</th>\n",
       "      <td>Bob Mayberry Hyundai</td>\n",
       "      <td>Monroe</td>\n",
       "      <td>NC</td>\n",
       "      <td>244.14</td>\n",
       "      <td>KM8KN4AE6NU096384</td>\n",
       "      <td>Ioniq 5</td>\n",
       "      <td>SEL</td>\n",
       "      <td>$48,005.00</td>\n",
       "      <td>M9U</td>\n",
       "      <td>2022-06-22T20:07:38</td>\n",
       "      <td>TN</td>\n",
       "      <td>REAR WHEEL DRIVE</td>\n",
       "    </tr>\n",
       "    <tr>\n",
       "      <th>36</th>\n",
       "      <td>Circle Hyundai</td>\n",
       "      <td>Shrewsbury</td>\n",
       "      <td>NJ</td>\n",
       "      <td>266.14</td>\n",
       "      <td>KM8KN4AE6NU068908</td>\n",
       "      <td>Ioniq 5</td>\n",
       "      <td>SEL</td>\n",
       "      <td>$48,060.00</td>\n",
       "      <td>M9U</td>\n",
       "      <td>2022-06-12T07:00:00</td>\n",
       "      <td>DS</td>\n",
       "      <td>REAR WHEEL DRIVE</td>\n",
       "    </tr>\n",
       "    <tr>\n",
       "      <th>52</th>\n",
       "      <td>Paramus Hyundai</td>\n",
       "      <td>Paramus</td>\n",
       "      <td>NJ</td>\n",
       "      <td>296.61</td>\n",
       "      <td>KM8KN4AEXNU072931</td>\n",
       "      <td>Ioniq 5</td>\n",
       "      <td>SEL</td>\n",
       "      <td>$48,095.00</td>\n",
       "      <td>M9U</td>\n",
       "      <td>2022-06-09T07:00:00</td>\n",
       "      <td>DS</td>\n",
       "      <td>REAR WHEEL DRIVE</td>\n",
       "    </tr>\n",
       "    <tr>\n",
       "      <th>190</th>\n",
       "      <td>Tulsa Hyundai</td>\n",
       "      <td>Tulsa</td>\n",
       "      <td>OK</td>\n",
       "      <td>1018.23</td>\n",
       "      <td>KM8KN4AE4NU091846</td>\n",
       "      <td>Ioniq 5</td>\n",
       "      <td>SEL</td>\n",
       "      <td>$48,010.00</td>\n",
       "      <td>M9U</td>\n",
       "      <td>2022-06-25T07:00:00</td>\n",
       "      <td>IR</td>\n",
       "      <td>REAR WHEEL DRIVE</td>\n",
       "    </tr>\n",
       "    <tr>\n",
       "      <th>242</th>\n",
       "      <td>Foundation Hyundai</td>\n",
       "      <td>Westminster</td>\n",
       "      <td>CO</td>\n",
       "      <td>1483.06</td>\n",
       "      <td>KM8KN4AE0NU072484</td>\n",
       "      <td>Ioniq 5</td>\n",
       "      <td>SEL</td>\n",
       "      <td>$48,005.00</td>\n",
       "      <td>M9U</td>\n",
       "      <td>2022-06-14T07:00:00</td>\n",
       "      <td>DS</td>\n",
       "      <td>REAR WHEEL DRIVE</td>\n",
       "    </tr>\n",
       "    <tr>\n",
       "      <th>260</th>\n",
       "      <td>Henderson Hyundai Superstore</td>\n",
       "      <td>Henderson</td>\n",
       "      <td>NV</td>\n",
       "      <td>2058.96</td>\n",
       "      <td>KM8KN4AE7NU069372</td>\n",
       "      <td>Ioniq 5</td>\n",
       "      <td>SEL</td>\n",
       "      <td>$47,940.00</td>\n",
       "      <td>M9U</td>\n",
       "      <td>2022-07-13T05:01:00</td>\n",
       "      <td>DS</td>\n",
       "      <td>REAR WHEEL DRIVE</td>\n",
       "    </tr>\n",
       "  </tbody>\n",
       "</table>\n",
       "</div>"
      ],
      "text/plain": [
       "                          dealerNm         city state  distance  \\\n",
       "10   Capital Hyundai Of Greensboro   Greensboro    NC    158.28   \n",
       "17            Bob Mayberry Hyundai       Monroe    NC    244.14   \n",
       "36                  Circle Hyundai   Shrewsbury    NJ    266.14   \n",
       "52                 Paramus Hyundai      Paramus    NJ    296.61   \n",
       "190                  Tulsa Hyundai        Tulsa    OK   1018.23   \n",
       "242             Foundation Hyundai  Westminster    CO   1483.06   \n",
       "260   Henderson Hyundai Superstore    Henderson    NV   2058.96   \n",
       "\n",
       "                   vin  modelNm trimDesc       price exteriorColorCd  \\\n",
       "10   KM8KN4AE0NU072999  Ioniq 5      SEL  $47,940.00             M9U   \n",
       "17   KM8KN4AE6NU096384  Ioniq 5      SEL  $48,005.00             M9U   \n",
       "36   KM8KN4AE6NU068908  Ioniq 5      SEL  $48,060.00             M9U   \n",
       "52   KM8KN4AEXNU072931  Ioniq 5      SEL  $48,095.00             M9U   \n",
       "190  KM8KN4AE4NU091846  Ioniq 5      SEL  $48,010.00             M9U   \n",
       "242  KM8KN4AE0NU072484  Ioniq 5      SEL  $48,005.00             M9U   \n",
       "260  KM8KN4AE7NU069372  Ioniq 5      SEL  $47,940.00             M9U   \n",
       "\n",
       "     PlannedDeliveryDate inventoryStatus    drivetrainDesc  \n",
       "10   2022-06-10T07:00:00              DS  REAR WHEEL DRIVE  \n",
       "17   2022-06-22T20:07:38              TN  REAR WHEEL DRIVE  \n",
       "36   2022-06-12T07:00:00              DS  REAR WHEEL DRIVE  \n",
       "52   2022-06-09T07:00:00              DS  REAR WHEEL DRIVE  \n",
       "190  2022-06-25T07:00:00              IR  REAR WHEEL DRIVE  \n",
       "242  2022-06-14T07:00:00              DS  REAR WHEEL DRIVE  \n",
       "260  2022-07-13T05:01:00              DS  REAR WHEEL DRIVE  "
      ]
     },
     "execution_count": 165,
     "metadata": {},
     "output_type": "execute_result"
    }
   ],
   "source": [
    "results = pd.concat(all_vehicles).reset_index(drop=True)\n",
    "results[(results['exteriorColorCd']=='M9U') & (results['trimDesc']=='SEL') & (results['drivetrainDesc']=='REAR WHEEL DRIVE')]"
   ]
  },
  {
   "cell_type": "code",
   "execution_count": 100,
   "metadata": {},
   "outputs": [
    {
     "data": {
      "text/plain": [
       "7"
      ]
     },
     "execution_count": 100,
     "metadata": {},
     "output_type": "execute_result"
    }
   ],
   "source": [
    "len(available)"
   ]
  },
  {
   "cell_type": "code",
   "execution_count": 101,
   "metadata": {},
   "outputs": [
    {
     "data": {
      "text/plain": [
       "1"
      ]
     },
     "execution_count": 101,
     "metadata": {},
     "output_type": "execute_result"
    }
   ],
   "source": [
    "len(available[1]['vehicles'])"
   ]
  },
  {
   "cell_type": "code",
   "execution_count": null,
   "metadata": {},
   "outputs": [],
   "source": []
  }
 ],
 "metadata": {
  "kernelspec": {
   "display_name": "Python 3",
   "language": "python",
   "name": "python3"
  },
  "language_info": {
   "codemirror_mode": {
    "name": "ipython",
    "version": 3
   },
   "file_extension": ".py",
   "mimetype": "text/x-python",
   "name": "python",
   "nbconvert_exporter": "python",
   "pygments_lexer": "ipython3",
   "version": "3.7.1"
  }
 },
 "nbformat": 4,
 "nbformat_minor": 2
}
